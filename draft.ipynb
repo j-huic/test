{
 "cells": [
  {
   "cell_type": "code",
   "execution_count": 8,
   "metadata": {},
   "outputs": [],
   "source": [
    "import numpy as np\n",
    "import math\n",
    "from random import random\n",
    "import statistics as stats\n",
    "import matplotlib.pyplot as plt"
   ]
  },
  {
   "cell_type": "code",
   "execution_count": 9,
   "metadata": {},
   "outputs": [],
   "source": [
    "r = 0.02 # risk-free rate\n",
    "mu = 0.05 # return of the market portfolio\n",
    "a = 0.4 # factor of reversion to fundamentals (higher a, faster reversion)\n",
    "volatilityY = 0.25 # volatility of the fundamentals\n",
    "volatilityS = 0.2 # additional volatility of the stock\n",
    "\n",
    "wage = 1 # per-year available funds (100% invested)\n",
    "riskAversion = 3 # factor of agent risk aversion\n",
    "startingAge = 25 # starting age of agents working and investing\n",
    "retirementDuration = 20 # retirement duration in years\n",
    "\n",
    "scenarios = 300\n",
    "density = 10\n",
    "T = 59\n",
    "steps = T * density\n",
    "deltaT = T / steps\n",
    "\n",
    "JerryIsRight = False # whether Jerry's views hold\n",
    "overRideJerry = True # whether the model goes by Jerry's assumptions\n",
    "overRideJerryValue = 1"
   ]
  },
  {
   "cell_type": "code",
   "execution_count": 10,
   "metadata": {},
   "outputs": [],
   "source": [
    "decrual = np.empty([retirementDuration * density - 1, scenarios])\n",
    "JerryDecrual = np.empty([retirementDuration * density - 1, scenarios])\n",
    "\n",
    "B0 = 1\n",
    "Y0 = 1\n",
    "S0 = a * Y0 / (a + mu)\n",
    "\n",
    "variance = [0]*20\n",
    "logVol = [0]*20\n",
    "\n",
    "\n",
    "\n",
    "JerryStar = (mu - r) / (volatilityS ** 2 * riskAversion)\n",
    "\n",
    "if overRideJerry:\n",
    "    JerryStar = overRideJerryValue"
   ]
  },
  {
   "cell_type": "code",
   "execution_count": 125,
   "metadata": {},
   "outputs": [],
   "source": [
    "def main(T = 59, density = 5, scenarios = 100, JerryIsRight = False, overRideJerry = True, overRideJerryValue = 1,\n",
    "        volatilityS = 0.2, volatilityY = 0.1):\n",
    "\n",
    "    steps = T * density\n",
    "    deltaT = T / steps\n",
    "\n",
    "    r = 0.02\n",
    "    mu = 0.05\n",
    "    a = 0.4\n",
    "    wage = 1\n",
    "    riskAversion = 3\n",
    "\n",
    "    retirementDuration = 20\n",
    "    startingAge = 25\n",
    "\n",
    "    B0 = 1\n",
    "    Y0 = 1\n",
    "    S0 = a * Y0 / (a + mu)\n",
    "\n",
    "    variance = [0]*20\n",
    "    logVol = [0]*20\n",
    "    \n",
    "    decrual = np.empty([retirementDuration * density - 1, scenarios])\n",
    "    JerryDecrual = np.empty([retirementDuration * density - 1, scenarios])\n",
    "\n",
    "    stocks = [0] * steps\n",
    "    economies = [0] * steps\n",
    "    F = [0] * steps\n",
    "    fStar = [0] * steps\n",
    "    FJerry = [0] * steps\n",
    "\n",
    "    for i in range(steps):\n",
    "        FJerry[i] = [0] * scenarios\n",
    "        F[i] = [0] * scenarios\n",
    "        fStar[i] = [0] * scenarios\n",
    "        stocks[i] = [0] * scenarios\n",
    "        economies[i] = [0] * scenarios\n",
    "        \n",
    "    JerryStar = (mu - r) / (volatilityS ** 2 * riskAversion)\n",
    "\n",
    "    if overRideJerry:\n",
    "        JerryStar = overRideJerryValue\n",
    "\n",
    "    dominantTerm = 2*S0**2*(a+mu+volatilityY**2)/(2*a+2*mu+volatilityY**2-volatilityS**2)\n",
    "\n",
    "    for j in range(1, scenarios + 1):\n",
    "\n",
    "        B = B0\n",
    "        Y = Y0\n",
    "        S = S0\n",
    "        W1 = 0\n",
    "        W2 = 0\n",
    "\n",
    "        fStar[0][j - 1] = 0\n",
    "        FJerry[0][j - 1] = 0\n",
    "        F[0][j - 1] = 0\n",
    "\n",
    "        SPosition = 0\n",
    "        BPosition = 0\n",
    "        JerrySPosition = 0\n",
    "        JerryBPosition = 0\n",
    "\n",
    "        for i in range(1, steps):\n",
    "            fStar[i - 1][j - 1] = 0\n",
    "            if i <= (T - retirementDuration) * steps / T:\n",
    "                for l in range(1, retirementDuration + 1):\n",
    "                    duration = T - retirementDuration + l - i / steps * T\n",
    "\n",
    "                    exponentDominant = math.exp(duration*(2*mu+volatilityY**2))\n",
    "                    correctionTerm = S0**2 - dominantTerm\n",
    "                    exponent = math.exp(((duration/(a+mu+volatilityY**2))*(-2*a**2-a*volatilityS**2+mu*volatilityY**2-2*a*mu + a*volatilityS**2 + volatilityY**2*volatilityS**2 + mu * volatilityS ** 2)))\n",
    "\n",
    "                    variance[l - 1] = dominantTerm*exponentDominant + correctionTerm*exponent - S0**2*math.exp(2*mu*duration)\n",
    "                    logVol[l - 1] = (1 / duration * math.log(1 + variance[l - 1]/(S0 ** 2 * math.exp(2 * mu * duration)))) ** 0.5\n",
    "\n",
    "                    fStar[i - 1][j - 1] = fStar[i - 1][j - 1] + (math.exp(mu)-1)*math.exp(mu*l)/(math.exp(mu)**20-1)*(mu - r)/(riskAversion*logVol[l - 1]**2)\n",
    "\n",
    "                SPosition += deltaT * wage * fStar[i - 1][j - 1] / S\n",
    "                BPosition += deltaT * wage * (1 - fStar[i - 1][j - 1]) / B\n",
    "\n",
    "                JerrySPosition = JerrySPosition + deltaT*wage*JerryStar/S\n",
    "                JerryBPosition = JerryBPosition + deltaT*wage*(1-JerryStar)/B\n",
    "            else:\n",
    "                #if (F[i - 1][j - 1] < 0) or (FJerry[i - 1][j - 1] < 0):\n",
    "                    #print(\"bankrupt\")\n",
    "                cumulativeFStar = SPosition*S/F[i - 1][j - 1]\n",
    "                excessReturn = min(mu*cumulativeFStar +r*(1-cumulativeFStar), 0.1)\n",
    "                #print(excessReturn)\n",
    "                #print(i)\n",
    "                #print(j)\n",
    "                #print(math.exp(excessReturn*(steps - i - 1)*deltaT))\n",
    "                #print((math.exp(deltaT*excessReturn)-1))\n",
    "                #print(math.exp(excessReturn*(steps-i)*deltaT)-1)\n",
    "                periodWeight = math.exp(excessReturn*(steps - i - 1)*deltaT)*(math.exp(deltaT*excessReturn)-1)/(math.exp(excessReturn*(steps-i)*deltaT)-1)\n",
    "                decrual[i - int((T-retirementDuration)*steps/T) - 1][j - 1] = F[i - 1][j - 1] * periodWeight\n",
    "                SPosition = SPosition * (1 - periodWeight)\n",
    "                BPosition = BPosition * (1 - periodWeight)\n",
    "\n",
    "                excessReturnJerry = mu * JerryStar + r * (1 - JerryStar)\n",
    "                periodWeightJerry = math.exp(excessReturnJerry*(steps-i - 1)*deltaT)*(math.exp(deltaT*excessReturnJerry)-1)/(math.exp(excessReturnJerry*(steps-i)*deltaT)-1)\n",
    "                JerryDecrual[i - 1 - int((T - retirementDuration) * steps / T)][j - 1] = FJerry[i - 1][j - 1] * periodWeightJerry\n",
    "                JerrySPosition = JerrySPosition * (1 - periodWeightJerry)\n",
    "                JerryBPosition = JerryBPosition * (1 - periodWeightJerry)\n",
    "\n",
    "            w = [deltaT ** 0.5 * np.random.normal(0, 1), deltaT ** 0.5 * np.random.normal(0, 1)]\n",
    "            dB = r * B * deltaT\n",
    "            B = B + dB\n",
    "\n",
    "            if not JerryIsRight:\n",
    "                dY = mu * Y * deltaT + volatilityY * Y * w[0]\n",
    "                dS = a*(Y-S)*deltaT + volatilityS*S*w[1]\n",
    "                Y = Y + dY\n",
    "                S = S + dS\n",
    "\n",
    "                F[i][j - 1] = SPosition*S + BPosition*B \n",
    "                FJerry[i][j - 1] = JerrySPosition * S + JerryBPosition * B\n",
    "\n",
    "                stocks[i - 1][j - 1] = S\n",
    "                economies[i - 1][j - 1] = Y\n",
    "            else:\n",
    "                dS = mu * S * deltaT + volatilityS * S * w[1]\n",
    "                S = S + dS\n",
    "\n",
    "                F[i][j - 1] = SPosition * S + BPosition * B\n",
    "                FJerry[i][j - 1] = JerrySPosition * S + JerryBPosition * B\n",
    "\n",
    "                stocks[i - 1][j - 1] = S\n",
    "                economies[i - 1][j - 1] = None  \n",
    "\n",
    "    \n",
    "    Welfare = np.mean(-decrual ** (1 - riskAversion))\n",
    "    WelfareJerry = np.mean(-(JerryDecrual) ** (1 - riskAversion))\n",
    "        \n",
    "    precision = 100\n",
    "    for j in range (-200 * wage, 200 * wage + 1):\n",
    "        i = j / 100\n",
    "        dif = np.mean(-(JerryDecrual + i) ** (1-riskAversion)) - np.mean(-decrual ** (1-riskAversion))\n",
    "\n",
    "        if  abs(dif) < precision:\n",
    "            equityTransfer = i\n",
    "            precision = abs(dif)\n",
    "        else:\n",
    "            equityTransfer = 0\n",
    "\n",
    "    transfer = 100*equityTransfer/np.mean(decrual)\n",
    "\n",
    "    output = {\n",
    "        \"F\": np.array(F),\n",
    "        \"welfare\": [Welfare, WelfareJerry],\n",
    "        \"transfer\": transfer,\n",
    "        \"stocks\": np.array(stocks),\n",
    "        \"econ\": np.array(economies)\n",
    "    }\n",
    "\n",
    "    return(output)\n"
   ]
  },
  {
   "cell_type": "code",
   "execution_count": 12,
   "metadata": {
    "jupyter": {
     "source_hidden": true
    }
   },
   "outputs": [],
   "source": [
    "def calc_fstar(r = 0.02, mu = 0.05, vY = 0.1, vS = 0.2, retDur = 20):\n",
    "    r = r\n",
    "    mu = mu\n",
    "    volatilityY = vY\n",
    "    volatilityS = vS\n",
    "    retirementDuration = retDur\n",
    "    B = B0\n",
    "    Y = Y0\n",
    "    S = S0\n",
    "    W1 = 0\n",
    "    W2 = 0\n",
    "        \n",
    "    F = [0] * steps\n",
    "    fStar = [0] * ((T - 20) * density)\n",
    "    FJerry = [0] * steps\n",
    "\n",
    "    SPosition = 0\n",
    "    BPosition = 0\n",
    "    JerrySPosition = 0\n",
    "    JerryBPosition = 0\n",
    "    \n",
    "    dominantTerm = 2*S0**2*(a+mu+volatilityY**2)/(2*a+2*mu+volatilityY**2-volatilityS**2)\n",
    "    correctionTerm = S0**2 - dominantTerm\n",
    "\n",
    "\n",
    "    for i in range(1, steps):\n",
    "        if i <= (T - retirementDuration) * steps / T:\n",
    "            for l in range(1, retirementDuration + 1):\n",
    "                duration = T - retirementDuration + l - i / steps * T\n",
    "\n",
    "\n",
    "                exponentDominant = math.exp(duration*(2*mu+volatilityY**2))\n",
    "\n",
    "                exponent = math.exp(((duration/(a+mu+volatilityY**2))*(-2*a**2-a*volatilityS**2+mu*volatilityY**2-2*a*mu+ a*volatilityS**2+ volatilityY**2*volatilityS**2 +mu*volatilityS**2)))\n",
    "\n",
    "                variance[l - 1] = dominantTerm*exponentDominant + correctionTerm*exponent - S0**2*math.exp(2*mu*duration)\n",
    "                logVol[l - 1] = (1 / duration * math.log(1 + variance[l - 1]/(S0** 2 * math.exp(2 * mu * duration)))) ** 0.5\n",
    "\n",
    "\n",
    "                fStar[i - 1] = fStar[i - 1] + (math.exp(mu)-1)*math.exp(mu*l)/(math.exp(mu)**20-1)*(mu - r)/(riskAversion*logVol[l - 1]**2)\n",
    "\n",
    "            SPosition += deltaT * wage * fStar[i - 1] / S\n",
    "            BPosition += deltaT * wage * (1 - fStar[i - 1]) / B\n",
    "\n",
    "            JerrySPosition = JerrySPosition + deltaT*wage*JerryStar/S\n",
    "            JerryBPosition = JerryBPosition + deltaT*wage*(1-JerryStar)/B\n",
    "        else:\n",
    "            cumulativeFStar = SPosition*S/F[i - 1]\n",
    "            excessReturn = mu*cumulativeFStar +r*(1-cumulativeFStar)\n",
    "            periodWeight = math.exp(excessReturn*(steps - i - 1)*deltaT)*(math.exp(deltaT*excessReturn)-1)/(math.exp(excessReturn*(steps-i)*deltaT)-1)\n",
    "            decrual[i - int((T-retirementDuration)*steps/T) - 1] = F[i - 1] * periodWeight\n",
    "            SPosition = SPosition * (1 - periodWeight)\n",
    "            BPosition = BPosition * (1 - periodWeight)\n",
    "           \n",
    "            excessReturnJerry = mu * JerryStar + r * (1 - JerryStar)\n",
    "            periodWeightJerry = math.exp(excessReturnJerry*(steps-i - 1)*deltaT)*(math.exp(deltaT*excessReturnJerry)-1)/(math.exp(excessReturnJerry*(steps-i)*deltaT)-1)\n",
    "            JerryDecrual[i - 1 - int((T - retirementDuration) * steps / T)] = FJerry[i - 1] * periodWeightJerry\n",
    "            JerrySPosition = JerrySPosition * (1 - periodWeightJerry)\n",
    "            JerryBPosition = JerryBPosition * (1 - periodWeightJerry)\n",
    "\n",
    "           \n",
    "        w = [deltaT ** 0.5 * np.random.normal(0, 1), deltaT ** 0.5 * np.random.normal(0, 1)]\n",
    "        dB = r * B * deltaT\n",
    "        B = B + dB\n",
    "\n",
    "        if not JerryIsRight:\n",
    "            dY = mu * Y * deltaT + volatilityY * Y * w[0]\n",
    "            dS = a*(Y-S)*deltaT + volatilityS*S*w[1]\n",
    "            Y = Y + dY\n",
    "            S = S + dS\n",
    "\n",
    "            F[i] = SPosition*S + BPosition*B \n",
    "            FJerry[i - 1] = JerrySPosition * S + JerryBPosition * B\n",
    "        else:\n",
    "            dS = mu * S * deltaT + volatilityS * S * w[1]\n",
    "            S = S + dS\n",
    "\n",
    "            F[i] = SPosition * S + BPosition * B\n",
    "            FJerry[i - 1] = JerrySPosition * S + JerryBPosition * B\n",
    "\n",
    "    return(fStar)"
   ]
  },
  {
   "cell_type": "code",
   "execution_count": 20,
   "metadata": {
    "collapsed": true,
    "jupyter": {
     "outputs_hidden": true
    }
   },
   "outputs": [
    {
     "data": {
      "text/plain": [
       "[3.0461371755829525,\n",
       " 3.044463137621654,\n",
       " 3.0427842221038452,\n",
       " 3.0411004075263977,\n",
       " 3.039411672258677,\n",
       " 3.0377179945415844,\n",
       " 3.03601935248659,\n",
       " 3.034315724074767,\n",
       " 3.0326070871558057,\n",
       " 3.0308934194470414,\n",
       " 3.02917469853243,\n",
       " 3.0274509018615703,\n",
       " 3.025722006748667,\n",
       " 3.0239879903715163,\n",
       " 3.022248829770463,\n",
       " 3.020504501847369,\n",
       " 3.018754983364546,\n",
       " 3.0170002509436986,\n",
       " 3.0152402810648495,\n",
       " 3.013475050065261,\n",
       " 3.0117045341383304,\n",
       " 3.0099287093325025,\n",
       " 3.0081475515501426,\n",
       " 3.00636103654642,\n",
       " 3.0045691399281687,\n",
       " 3.002771837152753,\n",
       " 3.0009691035268937,\n",
       " 2.9991609142055173,\n",
       " 2.99734724419057,\n",
       " 2.995528068329836,\n",
       " 2.9937033613157262,\n",
       " 2.991873097684086,\n",
       " 2.9900372518129497,\n",
       " 2.988195797921328,\n",
       " 2.9863487100679476,\n",
       " 2.984495962150004,\n",
       " 2.982637527901882,\n",
       " 2.98077338089388,\n",
       " 2.9789034945309165,\n",
       " 2.9770278420512217,\n",
       " 2.9751463965250187,\n",
       " 2.973259130853196,\n",
       " 2.971366017765956,\n",
       " 2.9694670298214683,\n",
       " 2.9675621394044907,\n",
       " 2.9656513187249964,\n",
       " 2.9637345398167594,\n",
       " 2.9618117745359607,\n",
       " 2.95988299455976,\n",
       " 2.9579481713848557,\n",
       " 2.956007276326031,\n",
       " 2.954060280514697,\n",
       " 2.952107154897403,\n",
       " 2.9501478702343453,\n",
       " 2.948182397097864,\n",
       " 2.946210705870912,\n",
       " 2.9442327667455137,\n",
       " 2.9422485497212127,\n",
       " 2.9402580246035135,\n",
       " 2.9382611610022775,\n",
       " 2.936257928330131,\n",
       " 2.934248295800858,\n",
       " 2.932232232427747,\n",
       " 2.9302097070219624,\n",
       " 2.9281806881908636,\n",
       " 2.92614514433634,\n",
       " 2.924103043653089,\n",
       " 2.922054354126915,\n",
       " 2.9199990435330054,\n",
       " 2.9179370794341533,\n",
       " 2.9158684291790102,\n",
       " 2.9137930599002972,\n",
       " 2.9117109385129893,\n",
       " 2.9096220317125083,\n",
       " 2.907526305972873,\n",
       " 2.905423727544843,\n",
       " 2.9033142624540353,\n",
       " 2.9011978764990274,\n",
       " 2.8990745352494534,\n",
       " 2.8969442040440434,\n",
       " 2.8948068479886815,\n",
       " 2.892662431954434,\n",
       " 2.890510920575534,\n",
       " 2.8883522782473836,\n",
       " 2.886186469124503,\n",
       " 2.8840134571184763,\n",
       " 2.8818332058958656,\n",
       " 2.8796456788761082,\n",
       " 2.8774508392294043,\n",
       " 2.87524864987455,\n",
       " 2.8730390734767806,\n",
       " 2.8708220724455784,\n",
       " 2.8685976089324527,\n",
       " 2.866365644828706,\n",
       " 2.86412614176317,\n",
       " 2.8618790610999283,\n",
       " 2.859624363935986,\n",
       " 2.8573620110989553,\n",
       " 2.85509196314469,\n",
       " 2.8528141803549025,\n",
       " 2.850528622734743,\n",
       " 2.848235250010383,\n",
       " 2.8459340216265425,\n",
       " 2.8436248967439957,\n",
       " 2.84130783423708,\n",
       " 2.8389827926911346,\n",
       " 2.8366497303999365,\n",
       " 2.834308605363101,\n",
       " 2.831959375283472,\n",
       " 2.8296019975644513,\n",
       " 2.827236429307319,\n",
       " 2.8248626273085384,\n",
       " 2.822480548056995,\n",
       " 2.8200901477312366,\n",
       " 2.8176913821966756,\n",
       " 2.815284207002758,\n",
       " 2.8128685773800877,\n",
       " 2.8104444482375426,\n",
       " 2.8080117741593553,\n",
       " 2.8055705094021386,\n",
       " 2.803120607891909,\n",
       " 2.8006620232210535,\n",
       " 2.798194708645277,\n",
       " 2.7957186170805,\n",
       " 2.793233701099755,\n",
       " 2.7907399129300066,\n",
       " 2.788237204448956,\n",
       " 2.7857255271818144,\n",
       " 2.7832048322980354,\n",
       " 2.780675070608001,\n",
       " 2.7781361925596837,\n",
       " 2.7755881482352733,\n",
       " 2.7730308873477396,\n",
       " 2.770464359237386,\n",
       " 2.767888512868356,\n",
       " 2.7653032968250937,\n",
       " 2.7627086593087546,\n",
       " 2.7601045481335995,\n",
       " 2.7574909107233374,\n",
       " 2.7548676941074044,\n",
       " 2.7522348449172407,\n",
       " 2.749592309382488,\n",
       " 2.746940033327165,\n",
       " 2.7442779621657767,\n",
       " 2.7416060408994185,\n",
       " 2.738924214111795,\n",
       " 2.736232425965193,\n",
       " 2.733530620196446,\n",
       " 2.730818740112814,\n",
       " 2.7280967285878233,\n",
       " 2.72536452805707,\n",
       " 2.7226220805139585,\n",
       " 2.719869327505408,\n",
       " 2.717106210127473,\n",
       " 2.7143326690209597,\n",
       " 2.7115486443669647,\n",
       " 2.708754075882344,\n",
       " 2.7059489028151584,\n",
       " 2.703133063940058,\n",
       " 2.70030649755358,\n",
       " 2.6974691414694534,\n",
       " 2.6946209330137663,\n",
       " 2.691761809020164,\n",
       " 2.688891705824886,\n",
       " 2.686010559261853,\n",
       " 2.6831183046576177,\n",
       " 2.6802148768262644,\n",
       " 2.6773002100642835,\n",
       " 2.6743742381453424,\n",
       " 2.6714368943150126,\n",
       " 2.6684881112854306,\n",
       " 2.665527821229883,\n",
       " 2.66255595577735,\n",
       " 2.6595724460069348,\n",
       " 2.656577222442282,\n",
       " 2.6535702150458844,\n",
       " 2.650551353213327,\n",
       " 2.6475205657674756,\n",
       " 2.6444777809525766,\n",
       " 2.641422926428282,\n",
       " 2.6383559292636165,\n",
       " 2.6352767159308463,\n",
       " 2.632185212299292,\n",
       " 2.629081343629044,\n",
       " 2.6259650345646093,\n",
       " 2.622836209128485,\n",
       " 2.6196947907146213,\n",
       " 2.6165407020818394,\n",
       " 2.613373865347137,\n",
       " 2.610194201978915,\n",
       " 2.6070016327901286,\n",
       " 2.6037960779313316,\n",
       " 2.6005774568836473,\n",
       " 2.5973456884516346,\n",
       " 2.594100690756079,\n",
       " 2.5908423812266754,\n",
       " 2.5875706765946083,\n",
       " 2.5842854928850745,\n",
       " 2.580986745409655,\n",
       " 2.5776743487586207,\n",
       " 2.5743482167931386,\n",
       " 2.571008262637353,\n",
       " 2.567654398670384,\n",
       " 2.5642865365182064,\n",
       " 2.560904587045432,\n",
       " 2.5575084603469778,\n",
       " 2.554098065739607,\n",
       " 2.5506733117534006,\n",
       " 2.5472341061230726,\n",
       " 2.543780355779176,\n",
       " 2.5403119668392202,\n",
       " 2.5368288445986313,\n",
       " 2.5333308935216214,\n",
       " 2.5298180172319054,\n",
       " 2.5262901185033257,\n",
       " 2.5227470992503234,\n",
       " 2.5191888605182866,\n",
       " 2.5156153024737855,\n",
       " 2.5120263243946437,\n",
       " 2.508421824659901,\n",
       " 2.504801700739629,\n",
       " 2.5011658491845985,\n",
       " 2.497514165615833,\n",
       " 2.493846544713979,\n",
       " 2.4901628802085702,\n",
       " 2.486463064867121,\n",
       " 2.4827469904840678,\n",
       " 2.4790145478695877,\n",
       " 2.475265626838214,\n",
       " 2.4715001161973427,\n",
       " 2.467717903735556,\n",
       " 2.463918876210781,\n",
       " 2.4601029193383073,\n",
       " 2.456269917778614,\n",
       " 2.452419755125039,\n",
       " 2.4485523138912955,\n",
       " 2.4446674754987714,\n",
       " 2.4407651202637175,\n",
       " 2.43684512738419,\n",
       " 2.4329073749268666,\n",
       " 2.4289517398136597,\n",
       " 2.424978097808146,\n",
       " 2.4209863235018156,\n",
       " 2.416976290300123,\n",
       " 2.412947870408366,\n",
       " 2.4089009348173605,\n",
       " 2.4048353532889086,\n",
       " 2.40075099434112,\n",
       " 2.3966477252334677,\n",
       " 2.3925254119516963,\n",
       " 2.3883839191925142,\n",
       " 2.384223110348081,\n",
       " 2.380042847490295,\n",
       " 2.3758429913548733,\n",
       " 2.3716234013252366,\n",
       " 2.3673839354161816,\n",
       " 2.3631244502573407,\n",
       " 2.358844801076464,\n",
       " 2.3545448416824577,\n",
       " 2.3502244244482466,\n",
       " 2.345883400293424,\n",
       " 2.3415216186666954,\n",
       " 2.3371389275281347,\n",
       " 2.332735173331222,\n",
       " 2.3283102010047045,\n",
       " 2.323863853934266,\n",
       " 2.319395973943988,\n",
       " 2.3149064012776566,\n",
       " 2.3103949745798786,\n",
       " 2.305861530877022,\n",
       " 2.301305905558004,\n",
       " 2.2967279323549277,\n",
       " 2.292127443323563,\n",
       " 2.287504268823699,\n",
       " 2.2828582374993864,\n",
       " 2.2781891762590565,\n",
       " 2.2734969102555516,\n",
       " 2.2687812628661,\n",
       " 2.2640420556722036,\n",
       " 2.2592791084395163,\n",
       " 2.2544922390976954,\n",
       " 2.2496812637202845,\n",
       " 2.244845996504613,\n",
       " 2.2399862497517975,\n",
       " 2.2351018338468256,\n",
       " 2.2301925572388015,\n",
       " 2.2252582264213627,\n",
       " 2.2202986459133522,\n",
       " 2.215313618239734,\n",
       " 2.210302943912872,\n",
       " 2.2052664214141777,\n",
       " 2.2002038471762324,\n",
       " 2.195115015565411,\n",
       " 2.1899997188651303,\n",
       " 2.184857747259745,\n",
       " 2.1796888888192294,\n",
       " 2.174492929484728,\n",
       " 2.169269653055072,\n",
       " 2.1640188411743537,\n",
       " 2.158740273320735,\n",
       " 2.153433726796559,\n",
       " 2.1480989767199676,\n",
       " 2.1427357960181146,\n",
       " 2.1373439554222045,\n",
       " 2.1319232234644687,\n",
       " 2.1264733664773257,\n",
       " 2.120994148594913,\n",
       " 2.1154853317571893,\n",
       " 2.1099466757168743,\n",
       " 2.1043779380494674,\n",
       " 2.098778874166616,\n",
       " 2.0931492373331237,\n",
       " 2.0874887786879306,\n",
       " 2.0817972472693618,\n",
       " 2.076074390045028,\n",
       " 2.0703199519467335,\n",
       " 2.0645336759108313,\n",
       " 2.0587153029244063,\n",
       " 2.052864572077762,\n",
       " 2.04698122062371,\n",
       " 2.041064984044116,\n",
       " 2.0351155961243044,\n",
       " 2.0291327890358537,\n",
       " 2.0231162934283597,\n",
       " 2.017065838530845,\n",
       " 2.0109811522634176,\n",
       " 2.004861961359917,\n",
       " 1.9987079915022086,\n",
       " 1.9925189674669426,\n",
       " 1.9862946132854817,\n",
       " 1.980034652417859,\n",
       " 1.973738807941563,\n",
       " 1.9674068027560283,\n",
       " 1.9610383598036931,\n",
       " 1.9546332023085036,\n",
       " 1.948191054032809,\n",
       " 1.9417116395535474,\n",
       " 1.9351946845586319,\n",
       " 1.9286399161644927,\n",
       " 1.922047063255646,\n",
       " 1.9154158568472317,\n",
       " 1.9087460304713477,\n",
       " 1.9020373205880663,\n",
       " 1.8952894670218716,\n",
       " 1.8885022134242864,\n",
       " 1.8816753077633361,\n",
       " 1.8748085028404253,\n",
       " 1.8679015568350985,\n",
       " 1.860954233878033,\n",
       " 1.8539663046525103,\n",
       " 1.8469375470243603,\n",
       " 1.8398677467003473,\n",
       " 1.8327566979146441,\n",
       " 1.8256042041428584,\n",
       " 1.818410078842875,\n",
       " 1.8111741462214836,\n",
       " 1.8038962420254745,\n",
       " 1.7965762143556232,\n",
       " 1.7892139245016172,\n",
       " 1.7818092477956753,\n",
       " 1.7743620744822237,\n",
       " 1.766872310600677,\n",
       " 1.759339878877928,\n",
       " 1.7517647196268202,\n",
       " 1.7441467916464453,\n",
       " 1.7364860731197684,\n",
       " 1.7287825625036766,\n",
       " 1.7210362794061864,\n",
       " 1.7132472654452282,\n",
       " 1.70541558508308,\n",
       " 1.6975413264302674,\n",
       " 1.689624602012524,\n",
       " 1.6816655494941979,\n",
       " 1.6736643323513816,\n",
       " 1.6656211404879884,\n",
       " 1.6575361907880164,\n",
       " 1.649409727597332,\n",
       " 1.6412420231284996,\n",
       " 1.6330333777824424,\n",
       " 1.6247841203811138,\n",
       " 1.6164946083057696,\n",
       " 1.608165227536046,\n",
       " 1.5997963925856544,\n",
       " 1.5913885463312332,\n",
       " 1.5829421597317306,\n",
       " 1.5744577314365682,\n",
       " 1.565935787281772,\n",
       " 1.557376879674227,\n",
       " 1.5487815868653196,\n",
       " 1.5401505121161312]"
      ]
     },
     "execution_count": 20,
     "metadata": {},
     "output_type": "execute_result"
    }
   ],
   "source": [
    "calc_fstar(vY = 0.05)"
   ]
  },
  {
   "cell_type": "code",
   "execution_count": 47,
   "metadata": {},
   "outputs": [],
   "source": [
    "reg = calc_fstar()\n",
    "fs_mu1 = calc_fstar(mu = 0.04)\n",
    "fs_mu2 = calc_fstar(mu = 0.06)\n",
    "fs_sigma1 = calc_fstar(vS = 0.3)\n",
    "fs_sigma2 = calc_fstar(vY = 0.05)\n",
    "time = [i for i in range(((T - 20) * density))]"
   ]
  },
  {
   "cell_type": "code",
   "execution_count": 48,
   "metadata": {},
   "outputs": [
    {
     "data": {
      "text/plain": [
       "<matplotlib.legend.Legend at 0x7efdaf3bdb38>"
      ]
     },
     "execution_count": 48,
     "metadata": {},
     "output_type": "execute_result"
    },
    {
     "data": {
      "image/png": "[encoded data removed]",
      "text/plain": [
       "<Figure size 432x288 with 1 Axes>"
      ]
     },
     "metadata": {
      "needs_background": "light"
     },
     "output_type": "display_data"
    }
   ],
   "source": [
    "plt.plot(time, reg, label = 'mu = 0.05', color = 'blue')\n",
    "plt.plot(time, calc_fstar(vS = 0.3), label = 'σ(S) = 0.3')\n",
    "plt.plot(time, calc_fstar(vY = 0.2), label = 'σ(Y) = 0.15')\n",
    "plt.plot(time, fs_mu2, label = 'mu = 0.06')\n",
    "plt.title(\"Proportion of income invested into stocks over time\")\n",
    "plt.xlabel(\"Investment periods (5 per year)\")\n",
    "plt.ylabel(\"Equity portfolio weight\")\n",
    "plt.legend()"
   ]
  },
  {
   "cell_type": "code",
   "execution_count": 96,
   "metadata": {},
   "outputs": [],
   "source": [
    "dp = 11\n",
    "\n",
    "# jerry false override true\n",
    "welfare_by_vY = [0] * dp\n",
    "welfareJ_by_vY = [0] * dp\n",
    "eqt_by_vY = [0] * dp\n",
    "\n",
    "# jerry false override false\n",
    "welfare2_by_vY = [0] * dp\n",
    "welfareJ2_by_vY = [0] * dp\n",
    "eqt2_by_vY = [0] * dp\n",
    "\n",
    "#jerry true override false\n",
    "welfare3_by_vY = [0] * dp\n",
    "welfareJ3_by_vY = [0] * dp\n",
    "eqt3_by_vY = [0] * dp"
   ]
  },
  {
   "cell_type": "code",
   "execution_count": 109,
   "metadata": {},
   "outputs": [
    {
     "name": "stdout",
     "output_type": "stream",
     "text": [
      "0\n"
     ]
    },
    {
     "name": "stderr",
     "output_type": "stream",
     "text": [
      "/opt/conda/lib/python3.7/site-packages/ipykernel_launcher.py:131: RuntimeWarning: divide by zero encountered in power\n",
      "/opt/conda/lib/python3.7/site-packages/ipykernel_launcher.py:137: RuntimeWarning: divide by zero encountered in power\n"
     ]
    },
    {
     "name": "stdout",
     "output_type": "stream",
     "text": [
      "1\n",
      "2\n",
      "3\n",
      "4\n",
      "5\n",
      "6\n",
      "7\n",
      "8\n",
      "9\n",
      "10\n",
      "DONE\n"
     ]
    }
   ],
   "source": [
    "\n",
    "inc = 0.01\n",
    "\n",
    "vY = [(0.05 + i * inc) for i in range(dp)]\n",
    "\n",
    "for i in range(dp):\n",
    "    print(i)\n",
    "    wf = main(scenarios = 75, density = 5, volatilityY = vY[i], JerryIsRight = True, overRideJerry = False)\n",
    "    welfare3_by_vY[i] = wf[\"welfare\"][0]\n",
    "    welfareJ3_by_vY[i] = wf[\"welfare\"][1]\n",
    "    eqt_by_vY[i] = wf[\"transfer\"]\n",
    "    \n",
    "print(\"DONE\")"
   ]
  },
  {
   "cell_type": "code",
   "execution_count": 65,
   "metadata": {},
   "outputs": [
    {
     "data": {
      "text/plain": [
       "10"
      ]
     },
     "execution_count": 65,
     "metadata": {},
     "output_type": "execute_result"
    }
   ],
   "source": [
    "len(welfare3_by_vY)"
   ]
  },
  {
   "cell_type": "code",
   "execution_count": 102,
   "metadata": {},
   "outputs": [
    {
     "data": {
      "text/plain": [
       "[0, 0, 0, 0, 0, 0, 0, 0, 0, 0, 0]"
      ]
     },
     "execution_count": 102,
     "metadata": {},
     "output_type": "execute_result"
    }
   ],
   "source": [
    "welfare_by_vY\n"
   ]
  },
  {
   "cell_type": "code",
   "execution_count": 106,
   "metadata": {},
   "outputs": [
    {
     "data": {
      "text/plain": [
       "Text(0, 0.5, 'welfare')"
      ]
     },
     "execution_count": 106,
     "metadata": {},
     "output_type": "execute_result"
    },
    {
     "data": {
      "image/png": "[encoded data removed]",
      "text/plain": [
       "<Figure size 432x288 with 1 Axes>"
      ]
     },
     "metadata": {
      "needs_background": "light"
     },
     "output_type": "display_data"
    }
   ],
   "source": [
    "plt.plot(vY, welfare_by_vY, label = 'Tom')\n",
    "plt.plot(vY, welfareJ_by_vY, label = 'Jerry')\n",
    "plt.title(\"jerry false, override true\")\n",
    "plt.legend()\n",
    "plt.xlabel(\"σ(Y)\")\n",
    "plt.ylabel(\"welfare\")"
   ]
  },
  {
   "cell_type": "code",
   "execution_count": 105,
   "metadata": {},
   "outputs": [
    {
     "data": {
      "text/plain": [
       "Text(0, 0.5, 'welfare')"
      ]
     },
     "execution_count": 105,
     "metadata": {},
     "output_type": "execute_result"
    },
    {
     "data": {
      "image/png": "[encoded data removed]",
      "text/plain": [
       "<Figure size 432x288 with 1 Axes>"
      ]
     },
     "metadata": {
      "needs_background": "light"
     },
     "output_type": "display_data"
    }
   ],
   "source": [
    "plt.plot(vY, welfare2_by_vY, label = 'Tom')\n",
    "plt.plot(vY, welfareJ2_by_vY, label = 'Jerry')\n",
    "plt.title(\"jerry false, override false\")\n",
    "plt.legend()\n",
    "plt.xlabel(\"σ(Y)\")\n",
    "plt.ylabel(\"welfare\")"
   ]
  },
  {
   "cell_type": "code",
   "execution_count": 110,
   "metadata": {},
   "outputs": [
    {
     "data": {
      "text/plain": [
       "Text(0, 0.5, 'welfare')"
      ]
     },
     "execution_count": 110,
     "metadata": {},
     "output_type": "execute_result"
    },
    {
     "data": {
      "image/png": "[encoded data removed]",
      "text/plain": [
       "<Figure size 432x288 with 1 Axes>"
      ]
     },
     "metadata": {
      "needs_background": "light"
     },
     "output_type": "display_data"
    }
   ],
   "source": [
    "plt.plot(vY, welfare3_by_vY, label = 'Tom')\n",
    "plt.plot(vY, welfareJ3_by_vY, label = 'Jerry')\n",
    "plt.title(\"jerry false, override false\")\n",
    "plt.legend()\n",
    "plt.xlabel(\"σ(Y)\")\n",
    "plt.ylabel(\"welfare\")"
   ]
  },
  {
   "cell_type": "code",
   "execution_count": 112,
   "metadata": {},
   "outputs": [],
   "source": [
    "def quantileplot(data, q):\n",
    "    step = data.shape[0]\n",
    "    scenario = data.shape[1]\n",
    "    \n",
    "    output = [0] * step\n",
    "    \n",
    "    for i in range(step):\n",
    "        output[i] = np.quantile(data[i, :], q)\n",
    "    \n",
    "    return(output)"
   ]
  },
  {
   "cell_type": "code",
   "execution_count": 130,
   "metadata": {},
   "outputs": [],
   "source": [
    "eff2 = main()[\"econ\"]"
   ]
  },
  {
   "cell_type": "code",
   "execution_count": 129,
   "metadata": {},
   "outputs": [
    {
     "data": {
      "text/plain": [
       "[<matplotlib.lines.Line2D at 0x7f2ec84ffbe0>]"
      ]
     },
     "execution_count": 129,
     "metadata": {},
     "output_type": "execute_result"
    },
    {
     "data": {
      "image/png": "[encoded data removed]",
      "text/plain": [
       "<Figure size 432x288 with 1 Axes>"
      ]
     },
     "metadata": {
      "needs_background": "light"
     },
     "output_type": "display_data"
    }
   ],
   "source": [
    "plt.plot(quantileplot(eff2[0: len(eff2) - 1], 0.9))"
   ]
  },
  {
   "cell_type": "code",
   "execution_count": 133,
   "metadata": {},
   "outputs": [],
   "source": [
    "F123 = main()[\"F\"]"
   ]
  },
  {
   "cell_type": "code",
   "execution_count": 136,
   "metadata": {},
   "outputs": [
    {
     "data": {
      "text/plain": [
       "[<matplotlib.lines.Line2D at 0x7f2ec78443c8>]"
      ]
     },
     "execution_count": 136,
     "metadata": {},
     "output_type": "execute_result"
    },
    {
     "data": {
      "image/png": "[encoded data removed]",
      "text/plain": [
       "<Figure size 432x288 with 1 Axes>"
      ]
     },
     "metadata": {
      "needs_background": "light"
     },
     "output_type": "display_data"
    }
   ],
   "source": [
    "plt.plot(quantileplot(F123, 0.9))\n",
    "plt.plot(quantileplot(F123, 0.1))\n",
    "plt.plot(quantileplot(F123, 0.5))"
   ]
  }
 ],
 "metadata": {
  "kernelspec": {
   "display_name": "Python 3",
   "language": "python",
   "name": "python3"
  },
  "language_info": {
   "codemirror_mode": {
    "name": "ipython",
    "version": 3
   },
   "file_extension": ".py",
   "mimetype": "text/x-python",
   "name": "python",
   "nbconvert_exporter": "python",
   "pygments_lexer": "ipython3",
   "version": "3.7.1"
  }
 },
 "nbformat": 4,
 "nbformat_minor": 4
}
